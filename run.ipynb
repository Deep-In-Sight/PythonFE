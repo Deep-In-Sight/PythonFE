{
 "cells": [
  {
   "cell_type": "code",
   "execution_count": null,
   "id": "5aa3a161-7463-4ce9-ab6e-34a933ba638b",
   "metadata": {},
   "outputs": [],
   "source": [
    "!pip install rply"
   ]
  },
  {
   "cell_type": "code",
   "execution_count": null,
   "id": "8292dda5-f6ae-4c48-b6c1-0bdda1a48154",
   "metadata": {},
   "outputs": [],
   "source": [
    "import numpy as np"
   ]
  },
  {
   "cell_type": "code",
   "execution_count": null,
   "id": "73f9ceca-94b8-4819-95a5-6d70f11e7f98",
   "metadata": {},
   "outputs": [],
   "source": []
  }
 ],
 "metadata": {
  "kernelspec": {
   "display_name": "Python 3 (ipykernel)",
   "language": "python",
   "name": "python3"
  },
  "language_info": {
   "name": ""
  }
 },
 "nbformat": 4,
 "nbformat_minor": 5
}
